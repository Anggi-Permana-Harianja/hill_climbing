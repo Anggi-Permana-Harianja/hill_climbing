{
 "cells": [
  {
   "cell_type": "markdown",
   "metadata": {},
   "source": [
    "### Hill Climbing with Adaptive Noise scalling in openAI gym cart-pole env"
   ]
  },
  {
   "cell_type": "code",
   "execution_count": 1,
   "metadata": {
    "collapsed": true
   },
   "outputs": [],
   "source": [
    "'''\n",
    "import modules\n",
    "'''\n",
    "import numpy as np\n",
    "import gym\n",
    "from collections import deque\n",
    "import matplotlib.pyplot as plt\n",
    "%matplotlib inline"
   ]
  },
  {
   "cell_type": "code",
   "execution_count": 2,
   "metadata": {
    "collapsed": false
   },
   "outputs": [
    {
     "name": "stdout",
     "output_type": "stream",
     "text": [
      "\u001b[33mWARN: gym.spaces.Box autodetected dtype as <class 'numpy.float32'>. Please provide explicit dtype.\u001b[0m\n",
      "observation space: Box(4,)\n",
      "action space: Discrete(2)\n"
     ]
    }
   ],
   "source": [
    "'''\n",
    "define initial policy class\n",
    "'''\n",
    "#create env\n",
    "env = gym.make('CartPole-v0')\n",
    "print(\"observation space: {}\".format(env.observation_space))\n",
    "print(\"action space: {}\".format(env.action_space))\n",
    "\n",
    "#class Policy\n",
    "class Policy(object):\n",
    "    def __init__(self, obs_space = 4, act_space = 2):\n",
    "        self.weights = 1e-4 * np.random.rand(obs_space, act_space) #weights for simple linear policy: obs_space * act_space\n",
    "        \n",
    "    def forward(self, state):\n",
    "        x = np.dot(state, self.weights)\n",
    "        return np.exp(x) / sum(np.exp(x)) #softmax classifier\n",
    "    \n",
    "    def act(self, state):\n",
    "        probs = self.forward(state)\n",
    "        '''\n",
    "        - you could choose 1.stochastic policy or 2.deterministic policy\n",
    "        - but deterministic is always perform best in this env\n",
    "        '''\n",
    "        #1.stochastic policy\n",
    "        #action = np.random.choice(1, p = probs)\n",
    "        #2.deterministic, greedy\n",
    "        action = np.argmax(probs)\n",
    "        \n",
    "        return action"
   ]
  },
  {
   "cell_type": "code",
   "execution_count": 3,
   "metadata": {
    "collapsed": false
   },
   "outputs": [
    {
     "name": "stdout",
     "output_type": "stream",
     "text": [
      "\u001b[33mWARN: gym.spaces.Box autodetected dtype as <class 'numpy.float32'>. Please provide explicit dtype.\u001b[0m\n",
      "episode: 100, average_score: 108.2\n",
      "env solved after 157 episodes, average_score: 195.36\n"
     ]
    }
   ],
   "source": [
    "'''\n",
    "- training with deterministic policy search\n",
    "- hill climbing is based linear search for global optima by iteration\n",
    "'''\n",
    "env = gym.make('CartPole-v0')\n",
    "env.seed(0)\n",
    "np.random.seed(0)\n",
    "\n",
    "#create policy object\n",
    "policy = Policy()\n",
    "\n",
    "def hill_climbing(n_episodes = 10000, max_timestep = 1000, gamma = 1.0, print_every = 100, noise_scale = 1e-2):\n",
    "    scores_deque = deque(maxlen = 100)\n",
    "    scores = [] #only used for plotting\n",
    "    best_R = -np.inf\n",
    "    best_weights = policy.weights\n",
    "    \n",
    "    for episode in range(1, n_episodes + 1):\n",
    "        rewards = []\n",
    "        \n",
    "        state = env.reset()\n",
    "        \n",
    "        for timestep in range(max_timestep):\n",
    "            #get action\n",
    "            action = policy.act(state)\n",
    "            #get feedback from env\n",
    "            state, reward, done, _ = env.step(action)\n",
    "            #store reward\n",
    "            rewards.append(reward)\n",
    "            if done:\n",
    "                break\n",
    "            \n",
    "        scores_deque.append(sum(rewards))\n",
    "        scores.append(sum(rewards))\n",
    "        \n",
    "        #discounts\n",
    "        discounts = [gamma ** i for i in range(len(rewards) + 1)] #remember, it is len(rewads) not max_timestep\n",
    "        R = sum([a * b for a, b in zip(discounts, rewards)])\n",
    "        \n",
    "        if R >= best_R: #found better weights\n",
    "            best_R = R\n",
    "            best_weights = policy.weights\n",
    "            noise_scale = max(1e-3, noise_scale / 2)\n",
    "            \n",
    "            policy.weights += noise_scale * np.random.rand(*policy.weights.shape)\n",
    "        else:\n",
    "            noise_scale = min(2, noise_scale * 2)\n",
    "            \n",
    "            policy.weights = noise_scale * np.random.rand(*policy.weights.shape)\n",
    "            \n",
    "        if episode % print_every == 0:\n",
    "            print('episode: {}, average_score: {}'.format(episode, np.mean(scores_deque)))\n",
    "        \n",
    "        if np.mean(scores_deque) >= 195.0:\n",
    "            print('env solved after {} episodes, average_score: {}'.format(episode, np.mean(scores_deque)))\n",
    "            policy.weights = best_weights\n",
    "            break\n",
    "            \n",
    "    return scores\n",
    "\n",
    "scores = hill_climbing()"
   ]
  },
  {
   "cell_type": "code",
   "execution_count": null,
   "metadata": {
    "collapsed": false
   },
   "outputs": [
    {
     "data": {
      "image/png": "[encoded data removed]",
      "text/plain": [
       "<Figure size 432x288 with 1 Axes>"
      ]
     },
     "metadata": {},
     "output_type": "display_data"
    }
   ],
   "source": [
    "'''\n",
    "plot the scores\n",
    "'''\n",
    "fig = plt.figure()\n",
    "ax = fig.add_subplot(111)\n",
    "plt.plot(np.arange(1, len(scores) + 1), scores)\n",
    "plt.xlabel('episode number')\n",
    "plt.ylabel('score')\n",
    "plt.show()"
   ]
  },
  {
   "cell_type": "code",
   "execution_count": null,
   "metadata": {
    "collapsed": false
   },
   "outputs": [
    {
     "name": "stdout",
     "output_type": "stream",
     "text": [
      "\u001b[33mWARN: gym.spaces.Box autodetected dtype as <class 'numpy.float32'>. Please provide explicit dtype.\u001b[0m\n"
     ]
    }
   ],
   "source": [
    "'''\n",
    "agent in action\n",
    "'''\n",
    "env = gym.make('CartPole-v0')\n",
    "state = env.reset()\n",
    "\n",
    "while True:\n",
    "    env.render()\n",
    "    #action \n",
    "    action = policy.act(state)\n",
    "    state, reward, done, _ = env.step(action)\n",
    "    if done:\n",
    "        env.reset()\n",
    "    \n",
    "env.close()"
   ]
  },
  {
   "cell_type": "code",
   "execution_count": null,
   "metadata": {
    "collapsed": true
   },
   "outputs": [],
   "source": []
  }
 ],
 "metadata": {
  "kernelspec": {
   "display_name": "Python 3",
   "language": "python",
   "name": "python3"
  },
  "language_info": {
   "codemirror_mode": {
    "name": "ipython",
    "version": 3
   },
   "file_extension": ".py",
   "mimetype": "text/x-python",
   "name": "python",
   "nbconvert_exporter": "python",
   "pygments_lexer": "ipython3",
   "version": "3.6.3"
  }
 },
 "nbformat": 4,
 "nbformat_minor": 2
}
